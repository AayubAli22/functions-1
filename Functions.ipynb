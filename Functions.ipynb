{
  "nbformat": 4,
  "nbformat_minor": 0,
  "metadata": {
    "colab": {
      "provenance": []
    },
    "kernelspec": {
      "name": "python3",
      "display_name": "Python 3"
    },
    "language_info": {
      "name": "python"
    }
  },
  "cells": [
    {
      "cell_type": "markdown",
      "source": [
        "#Functions\n"
      ],
      "metadata": {
        "id": "GU1cOhb56Dt7"
      }
    },
    {
      "cell_type": "markdown",
      "source": [
        " 1. what is difference between a function or a method in python ?\n",
        "  - i a Aayub Ali . my name is aayub ali."
      ],
      "metadata": {
        "id": "qAqBe1TO6Bc0"
      }
    },
    {
      "cell_type": "code",
      "source": [],
      "metadata": {
        "id": "YrwN2xfq6tPT"
      },
      "execution_count": null,
      "outputs": []
    }
  ]
}